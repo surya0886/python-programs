{
  "nbformat": 4,
  "nbformat_minor": 0,
  "metadata": {
    "colab": {
      "provenance": []
    },
    "kernelspec": {
      "name": "python3",
      "display_name": "Python 3"
    },
    "language_info": {
      "name": "python"
    }
  },
  "cells": [
    {
      "cell_type": "markdown",
      "source": [
        "# ALL OPERATORS"
      ],
      "metadata": {
        "id": "SEr3KsLWfkqM"
      }
    },
    {
      "cell_type": "markdown",
      "source": [
        "1.ARITHMETIC OPERATORS"
      ],
      "metadata": {
        "id": "9T8obwm4fqMK"
      }
    },
    {
      "cell_type": "code",
      "source": [
        "a=10\n",
        "b=20"
      ],
      "metadata": {
        "id": "ckthJbVJfjQy"
      },
      "execution_count": 1,
      "outputs": []
    },
    {
      "cell_type": "code",
      "execution_count": 2,
      "metadata": {
        "colab": {
          "base_uri": "https://localhost:8080/"
        },
        "id": "e54IsWR2dUs-",
        "outputId": "562857c6-81e8-431b-908b-4fe4bcc4b23e"
      },
      "outputs": [
        {
          "output_type": "execute_result",
          "data": {
            "text/plain": [
              "30"
            ]
          },
          "metadata": {},
          "execution_count": 2
        }
      ],
      "source": [
        "a+b"
      ]
    },
    {
      "cell_type": "code",
      "source": [
        "a-b"
      ],
      "metadata": {
        "colab": {
          "base_uri": "https://localhost:8080/"
        },
        "id": "00OwyGgef9xm",
        "outputId": "813aa7f3-19e3-4ea3-d896-ccb7fadacae2"
      },
      "execution_count": 3,
      "outputs": [
        {
          "output_type": "execute_result",
          "data": {
            "text/plain": [
              "-10"
            ]
          },
          "metadata": {},
          "execution_count": 3
        }
      ]
    },
    {
      "cell_type": "code",
      "source": [
        "print(\"multiplication:\"+str(a*b))"
      ],
      "metadata": {
        "colab": {
          "base_uri": "https://localhost:8080/"
        },
        "id": "uo8MDtrYgDZv",
        "outputId": "044be057-f0fc-4da2-e9fc-667d99def0b9"
      },
      "execution_count": 9,
      "outputs": [
        {
          "output_type": "stream",
          "name": "stdout",
          "text": [
            "multiplication:200\n"
          ]
        }
      ]
    },
    {
      "cell_type": "code",
      "source": [
        "a/b"
      ],
      "metadata": {
        "colab": {
          "base_uri": "https://localhost:8080/"
        },
        "id": "6coMLGLzgaX4",
        "outputId": "b51a22ca-544e-40fd-f942-cf1ee4872299"
      },
      "execution_count": 8,
      "outputs": [
        {
          "output_type": "execute_result",
          "data": {
            "text/plain": [
              "0.5"
            ]
          },
          "metadata": {},
          "execution_count": 8
        }
      ]
    },
    {
      "cell_type": "markdown",
      "source": [
        "example program"
      ],
      "metadata": {
        "id": "K33Vh3xRiNdM"
      }
    },
    {
      "cell_type": "code",
      "source": [
        "d=7425\n",
        "s=550\n",
        "t=d/s"
      ],
      "metadata": {
        "id": "rlUTQrbZgtNr"
      },
      "execution_count": 10,
      "outputs": []
    },
    {
      "cell_type": "code",
      "source": [
        "print(t)"
      ],
      "metadata": {
        "colab": {
          "base_uri": "https://localhost:8080/"
        },
        "id": "nFUpMF1Shtt_",
        "outputId": "d2cbbc10-3267-4ea0-e76c-67de0341cf7c"
      },
      "execution_count": 11,
      "outputs": [
        {
          "output_type": "stream",
          "name": "stdout",
          "text": [
            "13.5\n"
          ]
        }
      ]
    },
    {
      "cell_type": "markdown",
      "source": [
        ". tip calculator"
      ],
      "metadata": {
        "id": "PcGpGGFMiWkE"
      }
    },
    {
      "cell_type": "code",
      "source": [
        "bill=50\n",
        "print(\"tip:\",20*50/100)"
      ],
      "metadata": {
        "colab": {
          "base_uri": "https://localhost:8080/"
        },
        "id": "GCXhZNu3hzZz",
        "outputId": "db5e57d3-3151-4b58-8cfe-4720884fa440"
      },
      "execution_count": 15,
      "outputs": [
        {
          "output_type": "stream",
          "name": "stdout",
          "text": [
            "tip: 10.0\n"
          ]
        }
      ]
    },
    {
      "cell_type": "code",
      "source": [
        "bill=40\n",
        "print(\"tip:\", 40*50/100)"
      ],
      "metadata": {
        "colab": {
          "base_uri": "https://localhost:8080/"
        },
        "id": "S_qTRFE3jQnW",
        "outputId": "3ad53225-4b86-46d7-f673-2be3c26029d4"
      },
      "execution_count": 16,
      "outputs": [
        {
          "output_type": "stream",
          "name": "stdout",
          "text": [
            "tip: 20.0\n"
          ]
        }
      ]
    },
    {
      "cell_type": "code",
      "source": [
        "bill=50\n",
        "print(\"tip:\",50*50/100)"
      ],
      "metadata": {
        "colab": {
          "base_uri": "https://localhost:8080/"
        },
        "id": "nKXU86MzjxgM",
        "outputId": "8c5d22cf-8973-424a-8039-83283c193414"
      },
      "execution_count": 17,
      "outputs": [
        {
          "output_type": "stream",
          "name": "stdout",
          "text": [
            "tip: 25.0\n"
          ]
        }
      ]
    },
    {
      "cell_type": "code",
      "source": [
        "bill=int(125)\n",
        "tip=20/100*bill\n",
        "print(tip)"
      ],
      "metadata": {
        "colab": {
          "base_uri": "https://localhost:8080/"
        },
        "id": "CLBmHFzjj9yn",
        "outputId": "42659765-e855-481b-f773-f698d2312b8f"
      },
      "execution_count": 25,
      "outputs": [
        {
          "output_type": "stream",
          "name": "stdout",
          "text": [
            "25.0\n"
          ]
        }
      ]
    },
    {
      "cell_type": "code",
      "source": [
        "bill=int(1024)\n",
        "tip=20/100*bill\n",
        "print(tip)"
      ],
      "metadata": {
        "colab": {
          "base_uri": "https://localhost:8080/"
        },
        "id": "uY3_1lkWkDy-",
        "outputId": "9c478375-57a6-49a5-c7e5-525a4a82008e"
      },
      "execution_count": 26,
      "outputs": [
        {
          "output_type": "stream",
          "name": "stdout",
          "text": [
            "204.8\n"
          ]
        }
      ]
    },
    {
      "cell_type": "markdown",
      "source": [
        "2.COMPARSION OPERATORS"
      ],
      "metadata": {
        "id": "mlRgNd-Gl9CU"
      }
    },
    {
      "cell_type": "code",
      "source": [
        "a=20\n",
        "b=30\n",
        "\n",
        "print(a>b)\n",
        "print(a<b)\n",
        "print(a==b)\n",
        "print(a!=b)\n",
        "print(a>=b)\n",
        "print(a<=b)"
      ],
      "metadata": {
        "colab": {
          "base_uri": "https://localhost:8080/"
        },
        "id": "gXmu1M4VlXEF",
        "outputId": "f06eb6be-1385-42d5-b508-d166418af51d"
      },
      "execution_count": 38,
      "outputs": [
        {
          "output_type": "stream",
          "name": "stdout",
          "text": [
            "False\n",
            "True\n",
            "False\n",
            "True\n",
            "False\n",
            "True\n"
          ]
        }
      ]
    },
    {
      "cell_type": "code",
      "source": [
        "a = 0\n",
        "b = 1\n",
        "\n",
        "print(a>b)\n",
        "print(a<b)\n",
        "print(a==b)\n",
        "print(a!=b)\n",
        "print(a>=b)\n",
        "print(a<=b)"
      ],
      "metadata": {
        "colab": {
          "base_uri": "https://localhost:8080/"
        },
        "id": "H9ZAAEwumhPK",
        "outputId": "13f63b4c-a28c-42b0-f357-36e4896833e5"
      },
      "execution_count": 37,
      "outputs": [
        {
          "output_type": "stream",
          "name": "stdout",
          "text": [
            "False\n",
            "True\n",
            "False\n",
            "True\n",
            "False\n",
            "True\n"
          ]
        }
      ]
    },
    {
      "cell_type": "code",
      "source": [
        "a=-10\n",
        "b=20\n",
        "\n",
        "a > b\n",
        "a < b\n",
        "a == b\n",
        "a != b\n",
        "a >= b\n",
        "a <= b"
      ],
      "metadata": {
        "colab": {
          "base_uri": "https://localhost:8080/"
        },
        "id": "ktoQ3Wcsmn4v",
        "outputId": "8710342a-925c-4d0c-f515-a45931a9a8c2"
      },
      "execution_count": 29,
      "outputs": [
        {
          "output_type": "execute_result",
          "data": {
            "text/plain": [
              "True"
            ]
          },
          "metadata": {},
          "execution_count": 29
        }
      ]
    },
    {
      "cell_type": "code",
      "source": [
        "a = True\n",
        "b = False\n",
        "print(a and b)\n",
        "print(a or b)\n",
        "print(not a)"
      ],
      "metadata": {
        "colab": {
          "base_uri": "https://localhost:8080/"
        },
        "id": "Xj5gox8_mvOb",
        "outputId": "55ee0890-6e3d-4e3d-8b47-b0cbc53ecfee"
      },
      "execution_count": 34,
      "outputs": [
        {
          "output_type": "stream",
          "name": "stdout",
          "text": [
            "False\n",
            "True\n",
            "False\n"
          ]
        }
      ]
    },
    {
      "cell_type": "markdown",
      "source": [
        "3.ASSIGNMENT OPERATORS"
      ],
      "metadata": {
        "id": "WAUrxuzpoKAB"
      }
    },
    {
      "cell_type": "code",
      "source": [
        "a=10\n",
        "b=a\n",
        "print(b)\n",
        "b+=a\n",
        "print(b)\n",
        "b-=a\n",
        "print(b)\n",
        "b*=a\n",
        "print(b)\n",
        "b<<=a\n",
        "print(b)"
      ],
      "metadata": {
        "colab": {
          "base_uri": "https://localhost:8080/"
        },
        "id": "22g6-Vbzm9Gk",
        "outputId": "10c8763c-2389-48af-df6a-9b38d1ae1d69"
      },
      "execution_count": 39,
      "outputs": [
        {
          "output_type": "stream",
          "name": "stdout",
          "text": [
            "10\n",
            "20\n",
            "10\n",
            "100\n",
            "102400\n"
          ]
        }
      ]
    },
    {
      "cell_type": "code",
      "source": [
        "b=10\n",
        "a=b\n",
        "print(b)\n",
        "b+=a\n",
        "print(b)\n",
        "b-=a\n",
        "print(b)\n",
        "b*=a\n",
        "print(b)\n",
        "b<<=a\n",
        "print(b)"
      ],
      "metadata": {
        "colab": {
          "base_uri": "https://localhost:8080/"
        },
        "id": "XG5utrZmoqKl",
        "outputId": "8c0b8ae2-a908-4340-8db9-cbec15f9551c"
      },
      "execution_count": 41,
      "outputs": [
        {
          "output_type": "stream",
          "name": "stdout",
          "text": [
            "10\n",
            "20\n",
            "10\n",
            "100\n",
            "102400\n"
          ]
        }
      ]
    },
    {
      "cell_type": "markdown",
      "source": [
        "4.IDENTITY OPERATORS"
      ],
      "metadata": {
        "id": "ON4QV58mpPN9"
      }
    },
    {
      "cell_type": "code",
      "source": [
        "a=10\n",
        "b=20\n",
        "c=a\n",
        "print(a is not b)\n",
        "print(a is c)\n",
        "print(b is c)"
      ],
      "metadata": {
        "colab": {
          "base_uri": "https://localhost:8080/"
        },
        "id": "xrQfyN0CpEYE",
        "outputId": "c601db16-a922-43c3-dca9-6a3acbbe8680"
      },
      "execution_count": 43,
      "outputs": [
        {
          "output_type": "stream",
          "name": "stdout",
          "text": [
            "True\n",
            "True\n",
            "False\n"
          ]
        }
      ]
    },
    {
      "cell_type": "code",
      "source": [
        "a=10\n",
        "b=25\n",
        "c=a\n",
        "print(a is not b)\n",
        "print(a is c)\n",
        "print(b is c)"
      ],
      "metadata": {
        "colab": {
          "base_uri": "https://localhost:8080/"
        },
        "id": "a-nzRxQ4piPd",
        "outputId": "f19e5283-9658-4336-e8fa-5a239f9e78ff"
      },
      "execution_count": 45,
      "outputs": [
        {
          "output_type": "stream",
          "name": "stdout",
          "text": [
            "True\n",
            "True\n",
            "False\n"
          ]
        }
      ]
    },
    {
      "cell_type": "markdown",
      "source": [
        "5.MEMBERSHIP OPERATORS"
      ],
      "metadata": {
        "id": "c9Xj5yssp4yO"
      }
    },
    {
      "cell_type": "code",
      "source": [
        "x=10\n",
        "y=15\n",
        "list=[10,20,30,40,50]\n",
        "if (x not in list):\n",
        "  print(\"x is NOT present in given list\")\n",
        "else:\n",
        "  print(\"x is present in given list\")\n",
        "if(y in list):\n",
        "  print(\"y is present in given list\")\n",
        "else:\n",
        "  print(\"y is NOT present in given list\")"
      ],
      "metadata": {
        "colab": {
          "base_uri": "https://localhost:8080/"
        },
        "id": "g2OC9Kt4p18q",
        "outputId": "4dd15f4c-2d72-4b9d-8739-36e9a8b90dba"
      },
      "execution_count": 46,
      "outputs": [
        {
          "output_type": "stream",
          "name": "stdout",
          "text": [
            "x is present in given list\n",
            "y is NOT present in given list\n"
          ]
        }
      ]
    },
    {
      "cell_type": "code",
      "source": [
        "kavya=10\n",
        "surya=15\n",
        "lab=[10,20,30,40,50]\n",
        "if (x not in lab):\n",
        "  print(\"kavya is NOT present in given lab\")\n",
        "else:\n",
        "  print(\"kavya is present in given lab\")\n",
        "if(y in lab):\n",
        "  print(\"surya is present in given lab\")\n",
        "else:\n",
        "  print(\"surya is NOT present in given lab\")"
      ],
      "metadata": {
        "colab": {
          "base_uri": "https://localhost:8080/"
        },
        "id": "n61oKQMEq-XV",
        "outputId": "6e39bf2a-07ca-46d2-9a38-9a5aac5f9199"
      },
      "execution_count": 47,
      "outputs": [
        {
          "output_type": "stream",
          "name": "stdout",
          "text": [
            "kavya is present in given lab\n",
            "surya is NOT present in given lab\n"
          ]
        }
      ]
    },
    {
      "cell_type": "markdown",
      "source": [
        "~~the + operator\n",
        "\n"
      ],
      "metadata": {
        "id": "8HGAP0pJrsyK"
      }
    },
    {
      "cell_type": "code",
      "source": [
        "(1,2,3)+(4,5,6)"
      ],
      "metadata": {
        "colab": {
          "base_uri": "https://localhost:8080/"
        },
        "id": "sbI0kMhQrqmz",
        "outputId": "7feb2517-bb4a-4188-8888-8bde4f6e3a8b"
      },
      "execution_count": 48,
      "outputs": [
        {
          "output_type": "execute_result",
          "data": {
            "text/plain": [
              "(1, 2, 3, 4, 5, 6)"
            ]
          },
          "metadata": {},
          "execution_count": 48
        }
      ]
    },
    {
      "cell_type": "code",
      "source": [
        "[1,2,3]+[4,5,6]"
      ],
      "metadata": {
        "colab": {
          "base_uri": "https://localhost:8080/"
        },
        "id": "Jzr2Zgqlr-BY",
        "outputId": "db058209-cf8c-44e4-b361-56653f3aecb9"
      },
      "execution_count": 49,
      "outputs": [
        {
          "output_type": "execute_result",
          "data": {
            "text/plain": [
              "[1, 2, 3, 4, 5, 6]"
            ]
          },
          "metadata": {},
          "execution_count": 49
        }
      ]
    },
    {
      "cell_type": "code",
      "source": [
        "\"hello\"+\"\"+\"world\""
      ],
      "metadata": {
        "colab": {
          "base_uri": "https://localhost:8080/",
          "height": 36
        },
        "id": "OcXOQ2RfsHj6",
        "outputId": "85a6c8e6-ac78-4249-9958-19782069d292"
      },
      "execution_count": 57,
      "outputs": [
        {
          "output_type": "execute_result",
          "data": {
            "text/plain": [
              "'helloworld'"
            ],
            "application/vnd.google.colaboratory.intrinsic+json": {
              "type": "string"
            }
          },
          "metadata": {},
          "execution_count": 57
        }
      ]
    },
    {
      "cell_type": "markdown",
      "source": [
        "~~ THE *OPERATOR"
      ],
      "metadata": {
        "id": "5tF7lH6ysPGQ"
      }
    },
    {
      "cell_type": "code",
      "source": [
        "(1,2,3)*3"
      ],
      "metadata": {
        "colab": {
          "base_uri": "https://localhost:8080/"
        },
        "id": "R7AQZA9NsNZ7",
        "outputId": "5a656859-e0bd-45d6-db3d-ac961913534e"
      },
      "execution_count": 51,
      "outputs": [
        {
          "output_type": "execute_result",
          "data": {
            "text/plain": [
              "(1, 2, 3, 1, 2, 3, 1, 2, 3)"
            ]
          },
          "metadata": {},
          "execution_count": 51
        }
      ]
    },
    {
      "cell_type": "code",
      "source": [
        "[1,2,3]*3"
      ],
      "metadata": {
        "colab": {
          "base_uri": "https://localhost:8080/"
        },
        "id": "g89k1DV8sYZC",
        "outputId": "4e98af4f-2b35-4919-bb84-e6c50d705c6c"
      },
      "execution_count": 52,
      "outputs": [
        {
          "output_type": "execute_result",
          "data": {
            "text/plain": [
              "[1, 2, 3, 1, 2, 3, 1, 2, 3]"
            ]
          },
          "metadata": {},
          "execution_count": 52
        }
      ]
    },
    {
      "cell_type": "code",
      "source": [
        "\"hello\"*3"
      ],
      "metadata": {
        "colab": {
          "base_uri": "https://localhost:8080/",
          "height": 36
        },
        "id": "TirIcS94sdMg",
        "outputId": "148180f0-6243-4744-a869-7e4579fe2528"
      },
      "execution_count": 55,
      "outputs": [
        {
          "output_type": "execute_result",
          "data": {
            "text/plain": [
              "'hellohellohello'"
            ],
            "application/vnd.google.colaboratory.intrinsic+json": {
              "type": "string"
            }
          },
          "metadata": {},
          "execution_count": 55
        }
      ]
    },
    {
      "cell_type": "code",
      "source": [
        "\"surya\"*5"
      ],
      "metadata": {
        "colab": {
          "base_uri": "https://localhost:8080/",
          "height": 36
        },
        "id": "LEJl8eW8sgUd",
        "outputId": "2fb03c50-2fc2-447e-a050-4f0c49438794"
      },
      "execution_count": 56,
      "outputs": [
        {
          "output_type": "execute_result",
          "data": {
            "text/plain": [
              "'suryasuryasuryasuryasurya'"
            ],
            "application/vnd.google.colaboratory.intrinsic+json": {
              "type": "string"
            }
          },
          "metadata": {},
          "execution_count": 56
        }
      ]
    },
    {
      "cell_type": "markdown",
      "source": [
        "# PYTHON CONDITIONS AND IF STATEMENTS"
      ],
      "metadata": {
        "id": "KFUDCtCgs-MT"
      }
    },
    {
      "cell_type": "markdown",
      "source": [
        ". THE if-else STATEMENT"
      ],
      "metadata": {
        "id": "z1cChbqsuEkU"
      }
    },
    {
      "cell_type": "code",
      "source": [
        "age=16\n",
        "if age<18:\n",
        "  print(\"you can't vote!\")\n",
        "else:\n",
        "  print(\"you can vote!\")\n",
        "print(\"done!\")"
      ],
      "metadata": {
        "colab": {
          "base_uri": "https://localhost:8080/"
        },
        "id": "YpQiAfvGstQk",
        "outputId": "bf6b5620-f9fd-442d-a965-dce139c49f3c"
      },
      "execution_count": 58,
      "outputs": [
        {
          "output_type": "stream",
          "name": "stdout",
          "text": [
            "you can't vote!\n",
            "done!\n"
          ]
        }
      ]
    },
    {
      "cell_type": "code",
      "source": [
        "age=int(input(\"enter your age:\"))\n",
        "if age<18:\n",
        "  print(\"you can't vote!\")\n",
        "else:\n",
        "  print(\"you can vote!\")\n",
        "print(\"done!\")"
      ],
      "metadata": {
        "colab": {
          "base_uri": "https://localhost:8080/"
        },
        "id": "WJarxli7vvV6",
        "outputId": "d820aec6-71d8-4087-dd51-dd325fb78e29"
      },
      "execution_count": 62,
      "outputs": [
        {
          "output_type": "stream",
          "name": "stdout",
          "text": [
            "enter your age:19\n",
            "you can vote!\n",
            "done!\n"
          ]
        }
      ]
    },
    {
      "cell_type": "markdown",
      "source": [
        ". short hand if-else"
      ],
      "metadata": {
        "id": "hsb0ujM_vT2-"
      }
    },
    {
      "cell_type": "code",
      "source": [
        "age=20\n",
        "print(\"you can't vote!\")if age<18 else print(\"you can vote!\")\n",
        "print(\"done!\")"
      ],
      "metadata": {
        "colab": {
          "base_uri": "https://localhost:8080/"
        },
        "id": "KCx9NpvsvJey",
        "outputId": "b475158d-d250-4fb0-e7b2-b004bf5fc5da"
      },
      "execution_count": 60,
      "outputs": [
        {
          "output_type": "stream",
          "name": "stdout",
          "text": [
            "you can vote!\n",
            "done!\n"
          ]
        }
      ]
    },
    {
      "cell_type": "code",
      "source": [
        "age=int(input(\"enter your age:\"))\n",
        "print(\"you can't vote!\")if age<18 else print(\"you can vote!\")\n",
        "print(\"done!\")"
      ],
      "metadata": {
        "colab": {
          "base_uri": "https://localhost:8080/"
        },
        "id": "_y6SRK3ovLfE",
        "outputId": "fbe6da05-a6aa-4806-b2e7-34937eebee10"
      },
      "execution_count": 63,
      "outputs": [
        {
          "output_type": "stream",
          "name": "stdout",
          "text": [
            "enter your age:19\n",
            "you can vote!\n",
            "done!\n"
          ]
        }
      ]
    },
    {
      "cell_type": "markdown",
      "source": [
        "indentation in python\n",
        "\n"
      ],
      "metadata": {
        "id": "qsFZOMMWwqiQ"
      }
    },
    {
      "cell_type": "code",
      "source": [
        "a=33\n",
        "b=200\n",
        "if b>a:\n",
        "print(\"b is greater than a\")"
      ],
      "metadata": {
        "colab": {
          "base_uri": "https://localhost:8080/",
          "height": 106
        },
        "id": "JOtzytQ7woRh",
        "outputId": "e63b32f7-da27-437c-a822-9b6048d85259"
      },
      "execution_count": 65,
      "outputs": [
        {
          "output_type": "error",
          "ename": "IndentationError",
          "evalue": "expected an indented block after 'if' statement on line 3 (<ipython-input-65-72241dd227bc>, line 4)",
          "traceback": [
            "\u001b[0;36m  File \u001b[0;32m\"<ipython-input-65-72241dd227bc>\"\u001b[0;36m, line \u001b[0;32m4\u001b[0m\n\u001b[0;31m    print(\"b is greater than a\")\u001b[0m\n\u001b[0m    ^\u001b[0m\n\u001b[0;31mIndentationError\u001b[0m\u001b[0;31m:\u001b[0m expected an indented block after 'if' statement on line 3\n"
          ]
        }
      ]
    },
    {
      "cell_type": "code",
      "source": [
        "a=33\n",
        "b=200\n",
        "if b>a:\n",
        "  print(\"b is greater than a\")"
      ],
      "metadata": {
        "colab": {
          "base_uri": "https://localhost:8080/"
        },
        "id": "YXP3cLWMxs0x",
        "outputId": "37f3503b-ae70-4101-c184-d04062ee09c3"
      },
      "execution_count": 67,
      "outputs": [
        {
          "output_type": "stream",
          "name": "stdout",
          "text": [
            "b is greater than a\n"
          ]
        }
      ]
    },
    {
      "cell_type": "markdown",
      "source": [
        "if statement example"
      ],
      "metadata": {
        "id": "Sz0234LOyOD9"
      }
    },
    {
      "cell_type": "code",
      "source": [
        "if 5>1:\n",
        "  print(\"that's true\")"
      ],
      "metadata": {
        "colab": {
          "base_uri": "https://localhost:8080/"
        },
        "id": "-SxJEIAhyJDR",
        "outputId": "c8c872db-1e88-42f5-b720-b03b4ca4d4c7"
      },
      "execution_count": 68,
      "outputs": [
        {
          "output_type": "stream",
          "name": "stdout",
          "text": [
            "that's true\n"
          ]
        }
      ]
    },
    {
      "cell_type": "markdown",
      "source": [
        ".NESTED IF STATEMENTS"
      ],
      "metadata": {
        "id": "oOul1wJBybFp"
      }
    },
    {
      "cell_type": "code",
      "source": [
        "x=35\n",
        "if x>20:\n",
        "  print(\"above twenty\")\n",
        "if x>30:\n",
        "   print(\"and also above 30!\")"
      ],
      "metadata": {
        "colab": {
          "base_uri": "https://localhost:8080/"
        },
        "id": "jGd0DvDwyZT5",
        "outputId": "99798fd0-a02d-4383-8090-9426f29470a5"
      },
      "execution_count": 71,
      "outputs": [
        {
          "output_type": "stream",
          "name": "stdout",
          "text": [
            "above twenty\n",
            "and also above 30!\n"
          ]
        }
      ]
    },
    {
      "cell_type": "code",
      "source": [
        "x=35\n",
        "if x>10:\n",
        "  print(\"above twenty\")\n",
        "if x>36:\n",
        "   print(\"and also above 30!\")"
      ],
      "metadata": {
        "colab": {
          "base_uri": "https://localhost:8080/"
        },
        "id": "pGAwrYREy3K2",
        "outputId": "e208c53f-61ce-4279-cbce-12f67b2d516c"
      },
      "execution_count": 74,
      "outputs": [
        {
          "output_type": "stream",
          "name": "stdout",
          "text": [
            "above twenty\n"
          ]
        }
      ]
    },
    {
      "cell_type": "code",
      "source": [
        "x=int(input(\"enter the value:\"))\n",
        "if x>20:\n",
        "  print(\"above twenty\")\n",
        "if x>30:\n",
        "   print(\"and also above 30!\")"
      ],
      "metadata": {
        "colab": {
          "base_uri": "https://localhost:8080/"
        },
        "id": "yES9zE2PzCKB",
        "outputId": "3c8923d3-4b8c-468d-8cfa-2f2050f3b341"
      },
      "execution_count": 77,
      "outputs": [
        {
          "output_type": "stream",
          "name": "stdout",
          "text": [
            "enter the value:35\n",
            "above twenty\n",
            "and also above 30!\n"
          ]
        }
      ]
    },
    {
      "cell_type": "markdown",
      "source": [
        ".ELIF KEYWORDS"
      ],
      "metadata": {
        "id": "pKH-E6T4zlsa"
      }
    },
    {
      "cell_type": "markdown",
      "source": [
        "1.\n",
        "\n"
      ],
      "metadata": {
        "id": "vTsLeKZ20T8q"
      }
    },
    {
      "cell_type": "code",
      "source": [
        "a=33\n",
        "b=33\n",
        "if b>a:\n",
        "  print(\"a is greater than a\")\n",
        "elif a==b:\n",
        "    print(\"a and b are equal\")"
      ],
      "metadata": {
        "colab": {
          "base_uri": "https://localhost:8080/"
        },
        "id": "U_lxCT0vzrpX",
        "outputId": "1c65a55e-4919-4226-f9ed-f456c6da7780"
      },
      "execution_count": 79,
      "outputs": [
        {
          "output_type": "stream",
          "name": "stdout",
          "text": [
            "a and b are equal\n"
          ]
        }
      ]
    },
    {
      "cell_type": "markdown",
      "source": [
        "2."
      ],
      "metadata": {
        "id": "a0V8lz_Z0Y84"
      }
    },
    {
      "cell_type": "code",
      "source": [
        "a=200\n",
        "b=33\n",
        "if b>a:\n",
        "  print(\"b is greater than a\")\n",
        "elif a==b:\n",
        "  print(\"a and b are equal\")\n",
        "else:\n",
        "  print(\"a is greater than b\")"
      ],
      "metadata": {
        "colab": {
          "base_uri": "https://localhost:8080/"
        },
        "id": "56iCfTEjzVzd",
        "outputId": "77050364-dbce-4376-f76b-6fe8dd4a9fb1"
      },
      "execution_count": 81,
      "outputs": [
        {
          "output_type": "stream",
          "name": "stdout",
          "text": [
            "a is greater than b\n"
          ]
        }
      ]
    },
    {
      "cell_type": "markdown",
      "source": [
        "example"
      ],
      "metadata": {
        "id": "rgPu-Hat1m95"
      }
    },
    {
      "cell_type": "code",
      "source": [
        "num=3\n",
        "#try these two   variations as well\n",
        "num=-5\n",
        "num=0\n",
        "if num>=0:\n",
        "  print(\"positive and zero\")\n",
        "else:\n",
        "  print(\"negative number\")"
      ],
      "metadata": {
        "colab": {
          "base_uri": "https://localhost:8080/"
        },
        "id": "K22CgxZZ1lrm",
        "outputId": "2fbad0e8-9165-4e9c-dd5d-489de4143219"
      },
      "execution_count": 84,
      "outputs": [
        {
          "output_type": "stream",
          "name": "stdout",
          "text": [
            "positive and zero\n"
          ]
        }
      ]
    },
    {
      "cell_type": "markdown",
      "source": [
        "LOGICAL OPERATORS"
      ],
      "metadata": {
        "id": "YkM4rc-72fiC"
      }
    },
    {
      "cell_type": "markdown",
      "source": [
        "1.AND KEYWORD"
      ],
      "metadata": {
        "id": "BPwLk4gc2liW"
      }
    },
    {
      "cell_type": "code",
      "source": [
        "a=250\n",
        "b=44\n",
        "c=500\n",
        "if a>b and c>a:\n",
        "  print(\"both conditions are true\")"
      ],
      "metadata": {
        "colab": {
          "base_uri": "https://localhost:8080/"
        },
        "id": "8mA2gW4C2QgY",
        "outputId": "d19f6a87-37b0-4cd0-9b8a-4fc0953369b3"
      },
      "execution_count": 86,
      "outputs": [
        {
          "output_type": "stream",
          "name": "stdout",
          "text": [
            "both conditions are true\n"
          ]
        }
      ]
    },
    {
      "cell_type": "markdown",
      "source": [
        "2.NOT KEYBOARD"
      ],
      "metadata": {
        "id": "ZL1OTytE3PSn"
      }
    },
    {
      "cell_type": "code",
      "source": [
        "print"
      ],
      "metadata": {
        "id": "LHdwcGCf3DlN"
      },
      "execution_count": null,
      "outputs": []
    },
    {
      "cell_type": "markdown",
      "source": [
        "3.OR KEYBOARD"
      ],
      "metadata": {
        "id": "uNxuIRD13ULc"
      }
    },
    {
      "cell_type": "code",
      "source": [],
      "metadata": {
        "id": "Q4PnQ_ht3b8K"
      },
      "execution_count": null,
      "outputs": []
    },
    {
      "cell_type": "markdown",
      "source": [
        "4.NOR KEYBOARD"
      ],
      "metadata": {
        "id": "1mHq_8KW3dZt"
      }
    },
    {
      "cell_type": "code",
      "source": [
        ""
      ],
      "metadata": {
        "id": "yuMsm0nJ3f9H"
      },
      "execution_count": null,
      "outputs": []
    },
    {
      "cell_type": "markdown",
      "source": [
        "BMI CALCULATOR"
      ],
      "metadata": {
        "id": "wnAi9YQTF04k"
      }
    },
    {
      "cell_type": "code",
      "source": [
        "weight=int(input(\"enter your weight:\"));\n",
        "height=float(input(\"enter your height:\"));\n",
        "x=weight/float(height*height);\n",
        "if x<18.5:\n",
        "  print(\"underweight\")\n",
        "if x>18.5 and x<25:\n",
        "  print(\"normal\")\n",
        "if x>=25 and x<30:\n",
        "  print(\"overweigt\")\n",
        "if x>=30:\n",
        "  print('obesity')"
      ],
      "metadata": {
        "colab": {
          "base_uri": "https://localhost:8080/"
        },
        "id": "Kj7-4GULFWG7",
        "outputId": "0ecbeb0b-2fdc-43a2-e4f3-3a1a71281139"
      },
      "execution_count": 88,
      "outputs": [
        {
          "output_type": "stream",
          "name": "stdout",
          "text": [
            "enter your weight:62\n",
            "enter your height:5.11\n",
            "underweight\n"
          ]
        }
      ]
    },
    {
      "cell_type": "markdown",
      "source": [
        "sample"
      ],
      "metadata": {
        "id": "59yJk8-bIqZV"
      }
    },
    {
      "cell_type": "code",
      "source": [
        "weight=int(input(\"enter your weight:\"));\n",
        "height=float(input(\"enter your height:\"));\n",
        "x=weight/float(height*height);\n",
        "if x<18.5:\n",
        "  print(\"underweight\")\n",
        "if x>18.5 and x<25:\n",
        "  print(\"normal\")\n",
        "if x>=25 and x<30:\n",
        "  print(\"overweigt\")\n",
        "if x>=30:\n",
        "  print('obesity')"
      ],
      "metadata": {
        "colab": {
          "base_uri": "https://localhost:8080/"
        },
        "id": "JqxzOQgIIMUL",
        "outputId": "b683cce4-bbfb-4ce6-fa6b-dbd3e4b9e618"
      },
      "execution_count": 89,
      "outputs": [
        {
          "output_type": "stream",
          "name": "stdout",
          "text": [
            "enter your weight:85\n",
            "enter your height:1.9\n",
            "normal\n"
          ]
        }
      ]
    },
    {
      "cell_type": "code",
      "source": [],
      "metadata": {
        "id": "CIRh06M1Iu4n"
      },
      "execution_count": null,
      "outputs": []
    }
  ]
}