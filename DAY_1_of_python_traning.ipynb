{
  "nbformat": 4,
  "nbformat_minor": 0,
  "metadata": {
    "colab": {
      "provenance": [],
      "toc_visible": true
    },
    "kernelspec": {
      "name": "python3",
      "display_name": "Python 3"
    },
    "language_info": {
      "name": "python"
    }
  },
  "cells": [
    {
      "cell_type": "code",
      "execution_count": null,
      "metadata": {
        "colab": {
          "base_uri": "https://localhost:8080/"
        },
        "id": "Iz9HeoIeZGxb",
        "outputId": "1e3cb560-b035-4850-c0b8-7d006e7eb19f"
      },
      "outputs": [
        {
          "output_type": "stream",
          "name": "stdout",
          "text": [
            "hello, world\n"
          ]
        }
      ],
      "source": [
        "print(\"hello, world\")"
      ]
    },
    {
      "cell_type": "code",
      "source": [
        "print(hello, world!!)"
      ],
      "metadata": {
        "colab": {
          "base_uri": "https://localhost:8080/",
          "height": 110
        },
        "id": "ouxEq5EubHt5",
        "outputId": "e2676bb8-346c-499a-dac1-61008bc8a789"
      },
      "execution_count": null,
      "outputs": [
        {
          "output_type": "error",
          "ename": "SyntaxError",
          "evalue": "invalid syntax (<ipython-input-3-8eb923518808>, line 1)",
          "traceback": [
            "\u001b[0;36m  File \u001b[0;32m\"<ipython-input-3-8eb923518808>\"\u001b[0;36m, line \u001b[0;32m1\u001b[0m\n\u001b[0;31m    print(hello, world!!)\u001b[0m\n\u001b[0m                      ^\u001b[0m\n\u001b[0;31mSyntaxError\u001b[0m\u001b[0;31m:\u001b[0m invalid syntax\n"
          ]
        }
      ]
    },
    {
      "cell_type": "code",
      "source": [
        "print('''surya making a program''')"
      ],
      "metadata": {
        "colab": {
          "base_uri": "https://localhost:8080/"
        },
        "id": "3XqnHp_wbaBb",
        "outputId": "825b0e78-2c84-4bd9-d75f-0828f6c33525"
      },
      "execution_count": null,
      "outputs": [
        {
          "output_type": "stream",
          "name": "stdout",
          "text": [
            "surya making a program\n"
          ]
        }
      ]
    },
    {
      "cell_type": "code",
      "source": [
        "print(8+1)"
      ],
      "metadata": {
        "colab": {
          "base_uri": "https://localhost:8080/"
        },
        "id": "-_zM12C0eKpK",
        "outputId": "34a5bee0-d455-4cab-c1bd-05c19fb435a6"
      },
      "execution_count": null,
      "outputs": [
        {
          "output_type": "stream",
          "name": "stdout",
          "text": [
            "9\n"
          ]
        }
      ]
    },
    {
      "cell_type": "code",
      "source": [
        "print(20*2)"
      ],
      "metadata": {
        "colab": {
          "base_uri": "https://localhost:8080/"
        },
        "id": "t4lnoVWbeSKJ",
        "outputId": "78222ac8-af89-46a3-b016-09a48df11a17"
      },
      "execution_count": null,
      "outputs": [
        {
          "output_type": "stream",
          "name": "stdout",
          "text": [
            "40\n"
          ]
        }
      ]
    },
    {
      "cell_type": "code",
      "source": [
        "print(987654321)"
      ],
      "metadata": {
        "colab": {
          "base_uri": "https://localhost:8080/"
        },
        "id": "3I-DbvPOej7-",
        "outputId": "8ed681c2-b927-4af1-90bb-87e58e425973"
      },
      "execution_count": null,
      "outputs": [
        {
          "output_type": "stream",
          "name": "stdout",
          "text": [
            "987654321\n"
          ]
        }
      ]
    },
    {
      "cell_type": "code",
      "source": [
        "roll_number=input(\"enter your roll number:\")\n",
        "print(\"hello,\"+roll_number)"
      ],
      "metadata": {
        "colab": {
          "base_uri": "https://localhost:8080/"
        },
        "id": "yIKw3-qtfd7s",
        "outputId": "76ca1e2a-967d-49f7-9030-4aa1ecb09a68"
      },
      "execution_count": null,
      "outputs": [
        {
          "output_type": "stream",
          "name": "stdout",
          "text": [
            "enter your roll number:24QM1A6632\n",
            "hello,24QM1A6632\n"
          ]
        }
      ]
    },
    {
      "cell_type": "code",
      "source": [
        "IMname=input(\"enter your name\")\n",
        "print(\"hello,\"+name)"
      ],
      "metadata": {
        "colab": {
          "base_uri": "https://localhost:8080/"
        },
        "id": "EG483PDboUnM",
        "outputId": "52bf02e7-6e25-4076-ccee-6dc44afce32f"
      },
      "execution_count": null,
      "outputs": [
        {
          "output_type": "stream",
          "name": "stdout",
          "text": [
            "enter your nameSURYA UDAY\n",
            "hello,SURYA UDAY\n"
          ]
        }
      ]
    },
    {
      "cell_type": "code",
      "source": [
        "import keywords\n",
        "\n",
        "prin( \"the list of keywords is :\")\n",
        "print(keyword.kwlist)"
      ],
      "metadata": {
        "colab": {
          "base_uri": "https://localhost:8080/",
          "height": 380
        },
        "id": "E1_ZhbDrpDMC",
        "outputId": "47e087ee-e4e4-40a0-969a-eb6f4b001c2e"
      },
      "execution_count": null,
      "outputs": [
        {
          "output_type": "error",
          "ename": "ModuleNotFoundError",
          "evalue": "No module named 'keywords'",
          "traceback": [
            "\u001b[0;31m---------------------------------------------------------------------------\u001b[0m",
            "\u001b[0;31mModuleNotFoundError\u001b[0m                       Traceback (most recent call last)",
            "\u001b[0;32m<ipython-input-21-56cb837ce340>\u001b[0m in \u001b[0;36m<cell line: 0>\u001b[0;34m()\u001b[0m\n\u001b[0;32m----> 1\u001b[0;31m \u001b[0;32mimport\u001b[0m \u001b[0mkeywords\u001b[0m\u001b[0;34m\u001b[0m\u001b[0;34m\u001b[0m\u001b[0m\n\u001b[0m\u001b[1;32m      2\u001b[0m \u001b[0;34m\u001b[0m\u001b[0m\n\u001b[1;32m      3\u001b[0m \u001b[0mprin\u001b[0m\u001b[0;34m(\u001b[0m \u001b[0;34m\"the list of keywords is :\"\u001b[0m\u001b[0;34m)\u001b[0m\u001b[0;34m\u001b[0m\u001b[0;34m\u001b[0m\u001b[0m\n\u001b[1;32m      4\u001b[0m \u001b[0mprint\u001b[0m\u001b[0;34m(\u001b[0m\u001b[0mkeyword\u001b[0m\u001b[0;34m.\u001b[0m\u001b[0mkwlist\u001b[0m\u001b[0;34m)\u001b[0m\u001b[0;34m\u001b[0m\u001b[0;34m\u001b[0m\u001b[0m\n",
            "\u001b[0;31mModuleNotFoundError\u001b[0m: No module named 'keywords'",
            "",
            "\u001b[0;31m---------------------------------------------------------------------------\u001b[0;32m\nNOTE: If your import is failing due to a missing package, you can\nmanually install dependencies using either !pip or !apt.\n\nTo view examples of installing some common dependencies, click the\n\"Open Examples\" button below.\n\u001b[0;31m---------------------------------------------------------------------------\u001b[0m\n"
          ],
          "errorDetails": {
            "actions": [
              {
                "action": "open_url",
                "actionText": "Open Examples",
                "url": "/notebooks/snippets/importing_libraries.ipynb"
              }
            ]
          }
        }
      ]
    },
    {
      "cell_type": "code",
      "source": [
        "x=10\n",
        "print(x)"
      ],
      "metadata": {
        "colab": {
          "base_uri": "https://localhost:8080/"
        },
        "id": "DeNQKAUGsAVp",
        "outputId": "447b52cd-1196-4909-c13c-48f3097d3245"
      },
      "execution_count": null,
      "outputs": [
        {
          "output_type": "stream",
          "name": "stdout",
          "text": [
            "10\n"
          ]
        }
      ]
    },
    {
      "cell_type": "code",
      "source": [
        "x=\"KGRCET\"\n",
        "print(x)"
      ],
      "metadata": {
        "colab": {
          "base_uri": "https://localhost:8080/"
        },
        "id": "eq6SIvdetNWn",
        "outputId": "edcf0c16-7207-4e26-c0d7-b8db3683d38c"
      },
      "execution_count": null,
      "outputs": [
        {
          "output_type": "stream",
          "name": "stdout",
          "text": [
            "KGRCET\n"
          ]
        }
      ]
    },
    {
      "cell_type": "markdown",
      "source": [],
      "metadata": {
        "id": "ki0vwjUb8pVi"
      }
    },
    {
      "cell_type": "markdown",
      "source": [
        "# age"
      ],
      "metadata": {
        "id": "YQxLE8Xj8lgg"
      }
    },
    {
      "cell_type": "code",
      "source": [
        "age=19\n",
        "print(\"I am \" + str(age) + \" years old.\")"
      ],
      "metadata": {
        "colab": {
          "base_uri": "https://localhost:8080/"
        },
        "id": "Skz6KQzKtieG",
        "outputId": "abe5a05c-0565-40a6-87ed-f7a8e890f81a"
      },
      "execution_count": null,
      "outputs": [
        {
          "output_type": "stream",
          "name": "stdout",
          "text": [
            "I am 19 years old.\n"
          ]
        }
      ]
    },
    {
      "cell_type": "code",
      "source": [
        "a=500\n",
        "A=\"KGRCET\"\n",
        "# A will not overwrite a\n",
        "print(a)\n",
        "print(A)"
      ],
      "metadata": {
        "colab": {
          "base_uri": "https://localhost:8080/"
        },
        "id": "B7Pr7jZf8Ycs",
        "outputId": "28391022-2908-466b-8741-052d99f81424"
      },
      "execution_count": null,
      "outputs": [
        {
          "output_type": "stream",
          "name": "stdout",
          "text": [
            "500\n",
            "KGRCET\n"
          ]
        }
      ]
    },
    {
      "cell_type": "code",
      "source": [
        "x=5\n",
        "y=\"KGRCET\"\n",
        "print(x)\n",
        "print(y)"
      ],
      "metadata": {
        "colab": {
          "base_uri": "https://localhost:8080/"
        },
        "id": "ygeRtSX39am5",
        "outputId": "14540856-4e5d-472a-9fab-77810fc24412"
      },
      "execution_count": null,
      "outputs": [
        {
          "output_type": "stream",
          "name": "stdout",
          "text": [
            "5\n",
            "KGRCET\n"
          ]
        }
      ]
    },
    {
      "cell_type": "code",
      "source": [
        "x=4\n",
        "x=\"hello\"\n",
        "print(x)"
      ],
      "metadata": {
        "colab": {
          "base_uri": "https://localhost:8080/"
        },
        "id": "_m6vks-c9oiZ",
        "outputId": "66b378de-dc2d-4bbd-db8f-756d5acd7796"
      },
      "execution_count": null,
      "outputs": [
        {
          "output_type": "stream",
          "name": "stdout",
          "text": [
            "hello\n"
          ]
        }
      ]
    },
    {
      "cell_type": "code",
      "source": [
        "x=\"python\"\n",
        "y=\"is\"\n",
        "z=\"awesome\"\n",
        "print(x,y,z)"
      ],
      "metadata": {
        "colab": {
          "base_uri": "https://localhost:8080/"
        },
        "id": "ivMVj3QJ99UR",
        "outputId": "9b7775d7-918c-4125-fc4e-06be01926a44"
      },
      "execution_count": null,
      "outputs": [
        {
          "output_type": "stream",
          "name": "stdout",
          "text": [
            "python is awesome\n"
          ]
        }
      ]
    },
    {
      "cell_type": "code",
      "source": [
        "x=\"python \"\n",
        "y=\"is \"\n",
        "z=\"awesome\"\n",
        "print(x+y+z)"
      ],
      "metadata": {
        "colab": {
          "base_uri": "https://localhost:8080/"
        },
        "id": "N0xs_AWg-LHh",
        "outputId": "c681ced4-f2e3-47ee-e23c-38cd73678da4"
      },
      "execution_count": null,
      "outputs": [
        {
          "output_type": "stream",
          "name": "stdout",
          "text": [
            "python is awesome\n"
          ]
        }
      ]
    },
    {
      "cell_type": "code",
      "source": [
        "x=\"500 \"\n",
        "y=\"kgr \"\n",
        "print(x+y)"
      ],
      "metadata": {
        "colab": {
          "base_uri": "https://localhost:8080/"
        },
        "id": "DjNjcgDQ-XJd",
        "outputId": "0cfab512-e1cc-4e92-eb50-ac63994d83fa"
      },
      "execution_count": null,
      "outputs": [
        {
          "output_type": "stream",
          "name": "stdout",
          "text": [
            "500 kgr \n"
          ]
        }
      ]
    },
    {
      "cell_type": "code",
      "source": [
        "x,y=6,9\n",
        "x"
      ],
      "metadata": {
        "colab": {
          "base_uri": "https://localhost:8080/"
        },
        "id": "i1qSMr1x-lJ5",
        "outputId": "20e73361-e6b0-40bf-9b51-bb3ac5e49d45"
      },
      "execution_count": null,
      "outputs": [
        {
          "output_type": "execute_result",
          "data": {
            "text/plain": [
              "6"
            ]
          },
          "metadata": {},
          "execution_count": 14
        }
      ]
    },
    {
      "cell_type": "code",
      "source": [
        "y"
      ],
      "metadata": {
        "colab": {
          "base_uri": "https://localhost:8080/"
        },
        "id": "Yq2GUarr_VL0",
        "outputId": "9baa7e32-30fe-48ac-f95a-48066f0f5e4e"
      },
      "execution_count": null,
      "outputs": [
        {
          "output_type": "execute_result",
          "data": {
            "text/plain": [
              "9"
            ]
          },
          "metadata": {},
          "execution_count": 15
        }
      ]
    },
    {
      "cell_type": "code",
      "source": [
        "x=y=z=69"
      ],
      "metadata": {
        "id": "0vIOGJLs_dxG"
      },
      "execution_count": null,
      "outputs": []
    },
    {
      "cell_type": "code",
      "source": [
        "x"
      ],
      "metadata": {
        "colab": {
          "base_uri": "https://localhost:8080/"
        },
        "id": "Jvfeu6UI_npd",
        "outputId": "488c4c58-f81f-431f-d408-f7d68652a082"
      },
      "execution_count": null,
      "outputs": [
        {
          "output_type": "execute_result",
          "data": {
            "text/plain": [
              "69"
            ]
          },
          "metadata": {},
          "execution_count": 17
        }
      ]
    },
    {
      "cell_type": "code",
      "source": [
        "y"
      ],
      "metadata": {
        "colab": {
          "base_uri": "https://localhost:8080/"
        },
        "id": "BqA2zi89_oNY",
        "outputId": "52710789-30d8-442f-f789-0767ece43da8"
      },
      "execution_count": null,
      "outputs": [
        {
          "output_type": "execute_result",
          "data": {
            "text/plain": [
              "69"
            ]
          },
          "metadata": {},
          "execution_count": 18
        }
      ]
    },
    {
      "cell_type": "code",
      "source": [
        "z"
      ],
      "metadata": {
        "colab": {
          "base_uri": "https://localhost:8080/"
        },
        "id": "xBGxo1rH_o1F",
        "outputId": "28c3ee6e-8a14-475f-9148-19feae7739e9"
      },
      "execution_count": null,
      "outputs": [
        {
          "output_type": "execute_result",
          "data": {
            "text/plain": [
              "69"
            ]
          },
          "metadata": {},
          "execution_count": 19
        }
      ]
    },
    {
      "cell_type": "code",
      "source": [],
      "metadata": {
        "id": "ajl39HX5_pge"
      },
      "execution_count": null,
      "outputs": []
    },
    {
      "cell_type": "markdown",
      "source": [
        "# swapping numbers\n"
      ],
      "metadata": {
        "id": "E_zNYjmIAhGW"
      }
    },
    {
      "cell_type": "code",
      "source": [
        "a=10\n",
        "b=20\n",
        "a,b=b,a"
      ],
      "metadata": {
        "id": "QM7gcos2AnlF"
      },
      "execution_count": null,
      "outputs": []
    },
    {
      "cell_type": "code",
      "source": [
        "a"
      ],
      "metadata": {
        "colab": {
          "base_uri": "https://localhost:8080/"
        },
        "id": "iyPwZba4Au6c",
        "outputId": "2ed237b1-142d-44a3-e9c2-c1cc3ab50c58"
      },
      "execution_count": null,
      "outputs": [
        {
          "output_type": "execute_result",
          "data": {
            "text/plain": [
              "20"
            ]
          },
          "metadata": {},
          "execution_count": 21
        }
      ]
    },
    {
      "cell_type": "code",
      "source": [
        "b"
      ],
      "metadata": {
        "colab": {
          "base_uri": "https://localhost:8080/"
        },
        "id": "g38rDcv4AxA2",
        "outputId": "4384739d-2089-4f66-f624-cb43fe4a0439"
      },
      "execution_count": null,
      "outputs": [
        {
          "output_type": "execute_result",
          "data": {
            "text/plain": [
              "10"
            ]
          },
          "metadata": {},
          "execution_count": 22
        }
      ]
    },
    {
      "cell_type": "code",
      "source": [
        "x,y,z=\"orange\",\"banana\",\"cherry\"\n",
        "print(x)\n",
        "print(y)\n",
        "print(z)"
      ],
      "metadata": {
        "colab": {
          "base_uri": "https://localhost:8080/"
        },
        "id": "mPLH-BiSAxp_",
        "outputId": "9a6e355f-43e1-45cd-aa3c-ba8ab732f688"
      },
      "execution_count": null,
      "outputs": [
        {
          "output_type": "stream",
          "name": "stdout",
          "text": [
            "orange\n",
            "banana\n",
            "cherry\n"
          ]
        }
      ]
    },
    {
      "cell_type": "code",
      "source": [
        "x=y=z=\"orange\"\n",
        "print(x)\n",
        "print(y)\n",
        "print(z)"
      ],
      "metadata": {
        "colab": {
          "base_uri": "https://localhost:8080/"
        },
        "id": "vXQ-qgvPBVQC",
        "outputId": "4bcd4578-c13a-4b29-b018-fe0ed753c521"
      },
      "execution_count": null,
      "outputs": [
        {
          "output_type": "stream",
          "name": "stdout",
          "text": [
            "orange\n",
            "orange\n",
            "orange\n"
          ]
        }
      ]
    },
    {
      "cell_type": "markdown",
      "source": [
        "# casting"
      ],
      "metadata": {
        "id": "mhWR0eqeBrsv"
      }
    },
    {
      "cell_type": "code",
      "source": [
        "x=str(3)\n",
        "y=int(3)\n",
        "z=float(3)"
      ],
      "metadata": {
        "id": "9ewSF-5jBiMl"
      },
      "execution_count": null,
      "outputs": []
    },
    {
      "cell_type": "code",
      "source": [
        "x"
      ],
      "metadata": {
        "colab": {
          "base_uri": "https://localhost:8080/",
          "height": 36
        },
        "id": "w9bkEclGB7wt",
        "outputId": "42f392f9-1dec-4607-9c2e-d2a385952b2e"
      },
      "execution_count": null,
      "outputs": [
        {
          "output_type": "execute_result",
          "data": {
            "text/plain": [
              "'3'"
            ],
            "application/vnd.google.colaboratory.intrinsic+json": {
              "type": "string"
            }
          },
          "metadata": {},
          "execution_count": 28
        }
      ]
    },
    {
      "cell_type": "code",
      "source": [
        "y"
      ],
      "metadata": {
        "colab": {
          "base_uri": "https://localhost:8080/"
        },
        "id": "DxHg5y_BB-jI",
        "outputId": "def981a1-cd06-48d4-eac1-513d35c7a681"
      },
      "execution_count": null,
      "outputs": [
        {
          "output_type": "execute_result",
          "data": {
            "text/plain": [
              "3"
            ]
          },
          "metadata": {},
          "execution_count": 29
        }
      ]
    },
    {
      "cell_type": "code",
      "source": [
        "z"
      ],
      "metadata": {
        "colab": {
          "base_uri": "https://localhost:8080/"
        },
        "id": "Y1VJbJU4B_XN",
        "outputId": "3c51f3d3-d99f-4888-b8fd-755de69ea5ed"
      },
      "execution_count": null,
      "outputs": [
        {
          "output_type": "execute_result",
          "data": {
            "text/plain": [
              "3.0"
            ]
          },
          "metadata": {},
          "execution_count": 30
        }
      ]
    },
    {
      "cell_type": "code",
      "source": [
        "x=str(3)\n",
        "y=int(3)\n",
        "z=float(3)\n",
        "print(x)\n",
        "print(y)\n",
        "print(z)"
      ],
      "metadata": {
        "colab": {
          "base_uri": "https://localhost:8080/"
        },
        "id": "Cwgtq9ICB_-B",
        "outputId": "84002941-dce9-444c-f8f2-ea7e5c33d1f0"
      },
      "execution_count": null,
      "outputs": [
        {
          "output_type": "stream",
          "name": "stdout",
          "text": [
            "3\n",
            "3\n",
            "3.0\n"
          ]
        }
      ]
    },
    {
      "cell_type": "code",
      "source": [
        "x=str(3)\n",
        "y=int(3)\n",
        "print(x+y)"
      ],
      "metadata": {
        "colab": {
          "base_uri": "https://localhost:8080/",
          "height": 182
        },
        "id": "zzglumEeCPyd",
        "outputId": "8b9678b6-b36a-4038-8e8b-20fe106efec9"
      },
      "execution_count": null,
      "outputs": [
        {
          "output_type": "error",
          "ename": "TypeError",
          "evalue": "can only concatenate str (not \"int\") to str",
          "traceback": [
            "\u001b[0;31m---------------------------------------------------------------------------\u001b[0m",
            "\u001b[0;31mTypeError\u001b[0m                                 Traceback (most recent call last)",
            "\u001b[0;32m<ipython-input-32-ca9c62b873d6>\u001b[0m in \u001b[0;36m<cell line: 0>\u001b[0;34m()\u001b[0m\n\u001b[1;32m      1\u001b[0m \u001b[0mx\u001b[0m\u001b[0;34m=\u001b[0m\u001b[0mstr\u001b[0m\u001b[0;34m(\u001b[0m\u001b[0;36m3\u001b[0m\u001b[0;34m)\u001b[0m\u001b[0;34m\u001b[0m\u001b[0;34m\u001b[0m\u001b[0m\n\u001b[1;32m      2\u001b[0m \u001b[0my\u001b[0m\u001b[0;34m=\u001b[0m\u001b[0mint\u001b[0m\u001b[0;34m(\u001b[0m\u001b[0;36m3\u001b[0m\u001b[0;34m)\u001b[0m\u001b[0;34m\u001b[0m\u001b[0;34m\u001b[0m\u001b[0m\n\u001b[0;32m----> 3\u001b[0;31m \u001b[0mprint\u001b[0m\u001b[0;34m(\u001b[0m\u001b[0mx\u001b[0m\u001b[0;34m+\u001b[0m\u001b[0my\u001b[0m\u001b[0;34m)\u001b[0m\u001b[0;34m\u001b[0m\u001b[0;34m\u001b[0m\u001b[0m\n\u001b[0m",
            "\u001b[0;31mTypeError\u001b[0m: can only concatenate str (not \"int\") to str"
          ]
        }
      ]
    },
    {
      "cell_type": "code",
      "source": [
        "x=5\n",
        "y=\"KGRCET\"\n",
        "print(type(x))\n",
        "print(type(y))"
      ],
      "metadata": {
        "colab": {
          "base_uri": "https://localhost:8080/"
        },
        "id": "uPayybxyCa5-",
        "outputId": "4f9405a6-4c11-43b6-d190-b45ffedf8cab"
      },
      "execution_count": null,
      "outputs": [
        {
          "output_type": "stream",
          "name": "stdout",
          "text": [
            "<class 'int'>\n",
            "<class 'str'>\n"
          ]
        }
      ]
    },
    {
      "cell_type": "markdown",
      "source": [
        "# scope of variable"
      ],
      "metadata": {
        "id": "pZDDWlU4Cqcm"
      }
    },
    {
      "cell_type": "code",
      "source": [
        "def my_function():\n",
        "  local_var = \"i am local.\"\n",
        "  print(local_var)\n",
        "\n",
        "my_function()\n",
        "print(local_var)"
      ],
      "metadata": {
        "colab": {
          "base_uri": "https://localhost:8080/",
          "height": 200
        },
        "id": "hyKoSsf7CoRA",
        "outputId": "8ef9d467-f487-4f3f-8aa9-487aecc77a52"
      },
      "execution_count": null,
      "outputs": [
        {
          "output_type": "stream",
          "name": "stdout",
          "text": [
            "i am local.\n"
          ]
        },
        {
          "output_type": "error",
          "ename": "NameError",
          "evalue": "name 'local_var' is not defined",
          "traceback": [
            "\u001b[0;31m---------------------------------------------------------------------------\u001b[0m",
            "\u001b[0;31mNameError\u001b[0m                                 Traceback (most recent call last)",
            "\u001b[0;32m<ipython-input-38-78ad96f6df85>\u001b[0m in \u001b[0;36m<cell line: 0>\u001b[0;34m()\u001b[0m\n\u001b[1;32m      4\u001b[0m \u001b[0;34m\u001b[0m\u001b[0m\n\u001b[1;32m      5\u001b[0m \u001b[0mmy_function\u001b[0m\u001b[0;34m(\u001b[0m\u001b[0;34m)\u001b[0m\u001b[0;34m\u001b[0m\u001b[0;34m\u001b[0m\u001b[0m\n\u001b[0;32m----> 6\u001b[0;31m \u001b[0mprint\u001b[0m\u001b[0;34m(\u001b[0m\u001b[0mlocal_var\u001b[0m\u001b[0;34m)\u001b[0m\u001b[0;34m\u001b[0m\u001b[0;34m\u001b[0m\u001b[0m\n\u001b[0m",
            "\u001b[0;31mNameError\u001b[0m: name 'local_var' is not defined"
          ]
        }
      ]
    },
    {
      "cell_type": "code",
      "source": [
        "global_var=6\n",
        "def my_function():\n",
        "  print(global_var)\n",
        "\n",
        "my_function()"
      ],
      "metadata": {
        "colab": {
          "base_uri": "https://localhost:8080/"
        },
        "id": "r-PX1pggDfr9",
        "outputId": "e18fe40c-5a22-42e8-8704-687deb900216"
      },
      "execution_count": null,
      "outputs": [
        {
          "output_type": "stream",
          "name": "stdout",
          "text": [
            "6\n"
          ]
        }
      ]
    },
    {
      "cell_type": "code",
      "source": [
        "x=True\n",
        "print(x)\n",
        "print(type(x))"
      ],
      "metadata": {
        "colab": {
          "base_uri": "https://localhost:8080/"
        },
        "id": "6_Zk5d9ZER_Q",
        "outputId": "810f4de6-a1a0-494e-d467-47bd4dac8ab0"
      },
      "execution_count": null,
      "outputs": [
        {
          "output_type": "stream",
          "name": "stdout",
          "text": [
            "True\n",
            "<class 'bool'>\n"
          ]
        }
      ]
    },
    {
      "cell_type": "markdown",
      "source": [
        "# numeric data type"
      ],
      "metadata": {
        "id": "WND-jQs0HJT2"
      }
    },
    {
      "cell_type": "code",
      "source": [
        "a=5\n",
        "print(type(a))\n",
        "b=10.0\n",
        "print(type(b))\n",
        "c=5 + 4j\n",
        "print(type(c))"
      ],
      "metadata": {
        "colab": {
          "base_uri": "https://localhost:8080/"
        },
        "id": "oeoRT0yaGs7N",
        "outputId": "9283efcd-1a42-4d6b-a084-230868303aeb"
      },
      "execution_count": null,
      "outputs": [
        {
          "output_type": "stream",
          "name": "stdout",
          "text": [
            "<class 'int'>\n",
            "<class 'float'>\n",
            "<class 'complex'>\n"
          ]
        }
      ]
    },
    {
      "cell_type": "markdown",
      "source": [
        "# string data type"
      ],
      "metadata": {
        "id": "gHWExQTyHMRd"
      }
    },
    {
      "cell_type": "code",
      "source": [
        "s = 'welcome to python workshop'\n",
        "print(s)\n",
        "# chek data type\n",
        "print(type(s))\n",
        "# access string with index\n",
        "print(s[1])\n",
        "print(s[2])\n",
        "print(s[-1])\n",
        "print(s[0])\n",
        "print(s[7])"
      ],
      "metadata": {
        "colab": {
          "base_uri": "https://localhost:8080/"
        },
        "id": "3lYnW1oBGnLZ",
        "outputId": "76e8f97f-71f1-42e5-b484-533b1c5c71ed"
      },
      "execution_count": null,
      "outputs": [
        {
          "output_type": "stream",
          "name": "stdout",
          "text": [
            "welcome to python workshop\n",
            "<class 'str'>\n",
            "e\n",
            "l\n",
            "p\n",
            "w\n",
            " \n"
          ]
        }
      ]
    },
    {
      "cell_type": "code",
      "source": [
        "x='night'\n",
        "print(x[0])\n",
        "print(x[3])"
      ],
      "metadata": {
        "colab": {
          "base_uri": "https://localhost:8080/"
        },
        "id": "w8Fcs3SXH0G-",
        "outputId": "54f0412e-b62e-40af-db51-d766813003e7"
      },
      "execution_count": null,
      "outputs": [
        {
          "output_type": "stream",
          "name": "stdout",
          "text": [
            "n\n",
            "h\n"
          ]
        }
      ]
    },
    {
      "cell_type": "markdown",
      "source": [
        "# string concatenation"
      ],
      "metadata": {
        "id": "z1qzTrDGKXZ2"
      }
    },
    {
      "cell_type": "code",
      "source": [
        "string_1 = \"i am studying in\"\n",
        "string_2 = \" KGRCET\"\n",
        "print(string_1 + string_2)"
      ],
      "metadata": {
        "colab": {
          "base_uri": "https://localhost:8080/"
        },
        "id": "2lPB7ouLJnbm",
        "outputId": "99b3ddee-752d-4eca-c800-dd53560c782c"
      },
      "execution_count": null,
      "outputs": [
        {
          "output_type": "stream",
          "name": "stdout",
          "text": [
            "i am studying in KGRCET\n"
          ]
        }
      ]
    },
    {
      "cell_type": "code",
      "source": [
        "string_1 = \"i am studying in\"\n",
        "string_2 = \" 1st year in KGRCET\"\n",
        "print(string_1 + string_2)"
      ],
      "metadata": {
        "colab": {
          "base_uri": "https://localhost:8080/"
        },
        "id": "lxGV1DgIK2jC",
        "outputId": "839c8585-e1b1-4875-bed2-32f07a6b94ba"
      },
      "execution_count": null,
      "outputs": [
        {
          "output_type": "stream",
          "name": "stdout",
          "text": [
            "i am studying in 1st year in KGRCET\n"
          ]
        }
      ]
    },
    {
      "cell_type": "code",
      "source": [
        "year=\"1st year\"\n",
        "college=\"KGRCET\"\n",
        "print(\"i am studying \" + year + \" in \" + college)"
      ],
      "metadata": {
        "colab": {
          "base_uri": "https://localhost:8080/"
        },
        "id": "aW-FO5UaLc-m",
        "outputId": "bae94797-0c51-4c46-b11b-95b54764d8cf"
      },
      "execution_count": null,
      "outputs": [
        {
          "output_type": "stream",
          "name": "stdout",
          "text": [
            "i am studying 1st year in KGRCET\n"
          ]
        }
      ]
    },
    {
      "cell_type": "markdown",
      "source": [
        "# string replication"
      ],
      "metadata": {
        "id": "AeAWRM6uMNBj"
      }
    },
    {
      "cell_type": "code",
      "source": [
        "print(\"surya \" * 5)"
      ],
      "metadata": {
        "colab": {
          "base_uri": "https://localhost:8080/"
        },
        "id": "GYY8D1itL-R1",
        "outputId": "9340bfb1-11fc-412e-c71e-1ebcee9345e0"
      },
      "execution_count": null,
      "outputs": [
        {
          "output_type": "stream",
          "name": "stdout",
          "text": [
            "surya surya surya surya surya \n"
          ]
        }
      ]
    },
    {
      "cell_type": "markdown",
      "source": [
        "# list data type"
      ],
      "metadata": {
        "id": "U-g09Z2SNghn"
      }
    },
    {
      "cell_type": "code",
      "source": [
        "# empty list\n",
        "a = []\n",
        "\n",
        "#list with int values\n",
        "a = [1, 2, 3]\n",
        "print(a)\n",
        "\n",
        "#list with mixed int and string\n",
        "b = [\"surya\" , \"hii\", \"python\", 4 ,3]\n",
        "print(b)"
      ],
      "metadata": {
        "colab": {
          "base_uri": "https://localhost:8080/"
        },
        "id": "hut9naXCMkIT",
        "outputId": "7b9cfcc8-c3d2-418a-c67c-21c183cc658f"
      },
      "execution_count": null,
      "outputs": [
        {
          "output_type": "stream",
          "name": "stdout",
          "text": [
            "[1, 2, 3]\n",
            "['surya', 'hii', 'python', 4, 3]\n"
          ]
        }
      ]
    },
    {
      "cell_type": "code",
      "source": [
        "a = []\n",
        "\n",
        "a = [6, 2, 9]\n",
        "print(a)\n",
        "\n",
        "b = [\"karthik\" , \"mawa\", \"gamer\",5, 3]\n",
        "print(b)"
      ],
      "metadata": {
        "colab": {
          "base_uri": "https://localhost:8080/"
        },
        "id": "ydu6RsDHPOGD",
        "outputId": "0774ef2f-e24a-4447-cd4e-8cfab5b58814"
      },
      "execution_count": null,
      "outputs": [
        {
          "output_type": "stream",
          "name": "stdout",
          "text": [
            "[6, 2, 9]\n",
            "['karthik', 'mawa', 'gamer', 5, 3]\n"
          ]
        }
      ]
    },
    {
      "cell_type": "markdown",
      "source": [
        "# accessing list"
      ],
      "metadata": {
        "id": "Ld2CEZ9kbRCz"
      }
    },
    {
      "cell_type": "code",
      "source": [
        "a = [\"python\",3, \"is\" ,\"very\",\"easy\"]\n",
        "print(\"accessing element from the list:\")\n",
        "print(a[0:4])\n",
        "print(a[2])\n",
        "\n",
        "print(\"accessing element in negative indexing\")\n",
        "print(a[-1])\n",
        "print(a[-3])"
      ],
      "metadata": {
        "colab": {
          "base_uri": "https://localhost:8080/"
        },
        "id": "7bxabovbP89G",
        "outputId": "470beac0-7b44-4f1b-b751-9b8ca3c8065f"
      },
      "execution_count": null,
      "outputs": [
        {
          "output_type": "stream",
          "name": "stdout",
          "text": [
            "accessing element from the list:\n",
            "['python', 3, 'is', 'very']\n",
            "is\n",
            "accessing element in negative indexing\n",
            "easy\n",
            "is\n"
          ]
        }
      ]
    },
    {
      "cell_type": "markdown",
      "source": [
        "# sort a list"
      ],
      "metadata": {
        "id": "hV01NULqbsqt"
      }
    },
    {
      "cell_type": "code",
      "source": [
        "alpha_list = [32, 10, 1, 7, 41]\n",
        "alpha_list.sort()\n",
        "alpha_list\n"
      ],
      "metadata": {
        "colab": {
          "base_uri": "https://localhost:8080/"
        },
        "id": "CnHjafvFbCqs",
        "outputId": "632d473e-e430-4a1e-a8ef-705a33a06b7d"
      },
      "execution_count": null,
      "outputs": [
        {
          "output_type": "execute_result",
          "data": {
            "text/plain": [
              "[1, 7, 10, 32, 41]"
            ]
          },
          "metadata": {},
          "execution_count": 75
        }
      ]
    },
    {
      "cell_type": "markdown",
      "source": [
        "# how to add item to a list\n",
        "1.append"
      ],
      "metadata": {
        "id": "OSSNT1y_dArT"
      }
    },
    {
      "cell_type": "code",
      "source": [
        "beta_list = [\"apple\", \"banana\", \"orange\"]\n",
        "beta_list.append(\"grape\")\n",
        "print(beta_list)"
      ],
      "metadata": {
        "colab": {
          "base_uri": "https://localhost:8080/"
        },
        "id": "wbU34Jy_bmKd",
        "outputId": "a4c3b4af-0204-4367-be9d-750242441bcf"
      },
      "execution_count": null,
      "outputs": [
        {
          "output_type": "stream",
          "name": "stdout",
          "text": [
            "['apple', 'banana', 'orange', 'grape']\n"
          ]
        }
      ]
    },
    {
      "cell_type": "markdown",
      "source": [
        "# 2.insert"
      ],
      "metadata": {
        "id": "T1d3VPWzdrrW"
      }
    },
    {
      "cell_type": "code",
      "source": [
        "beta_list = [\"apple\", \"banana\", \"orange\"]\n",
        "beta_list.insert(2,\"grape\")\n",
        "print(beta_list)"
      ],
      "metadata": {
        "colab": {
          "base_uri": "https://localhost:8080/"
        },
        "id": "rzLczYTKcqom",
        "outputId": "4eaab444-242d-4810-b25b-0bf29a6b891b"
      },
      "execution_count": null,
      "outputs": [
        {
          "output_type": "stream",
          "name": "stdout",
          "text": [
            "['apple', 'banana', 'grape', 'orange']\n"
          ]
        }
      ]
    },
    {
      "cell_type": "code",
      "source": [
        "beta_list = [\"bullet\", \"hunter\", \"classical\"]\n",
        "beta_list.insert(2,\"metior\")\n",
        "print(beta_list)"
      ],
      "metadata": {
        "colab": {
          "base_uri": "https://localhost:8080/"
        },
        "id": "YUs-8ln-eB7G",
        "outputId": "e19bbea5-4efa-4b04-94e8-cb1fb36f324e"
      },
      "execution_count": null,
      "outputs": [
        {
          "output_type": "stream",
          "name": "stdout",
          "text": [
            "['bullet', 'hunter', 'metior', 'classical']\n"
          ]
        }
      ]
    },
    {
      "cell_type": "markdown",
      "source": [
        "# how to remove an item from a list\n",
        "1.remove"
      ],
      "metadata": {
        "id": "0KnzLX4hfFlv"
      }
    },
    {
      "cell_type": "code",
      "source": [
        "fruit_list = [\"apple\", \"banana\", \"orange\"]\n",
        "fruit_list.remove(\"apple\")\n",
        "print(fruit_list)"
      ],
      "metadata": {
        "colab": {
          "base_uri": "https://localhost:8080/"
        },
        "id": "brXsctbsfDI_",
        "outputId": "4a92f59d-d884-4f4d-e6e8-666456104990"
      },
      "execution_count": null,
      "outputs": [
        {
          "output_type": "stream",
          "name": "stdout",
          "text": [
            "['banana', 'orange']\n"
          ]
        }
      ]
    },
    {
      "cell_type": "markdown",
      "source": [
        "2.pop"
      ],
      "metadata": {
        "id": "u4_dHqmZgUUV"
      }
    },
    {
      "cell_type": "code",
      "source": [
        "fruit_list = [\"apple\", \"banana\", \"orange\"]\n",
        "fruit_list.pop()\n",
        "print(fruit_list)"
      ],
      "metadata": {
        "colab": {
          "base_uri": "https://localhost:8080/"
        },
        "id": "kVZ5cih4gMnM",
        "outputId": "87026db3-dbfd-4034-ba85-917cb9d799e8"
      },
      "execution_count": null,
      "outputs": [
        {
          "output_type": "stream",
          "name": "stdout",
          "text": [
            "['apple', 'banana']\n"
          ]
        }
      ]
    },
    {
      "cell_type": "markdown",
      "source": [
        "3.delete"
      ],
      "metadata": {
        "id": "p-N59T2MgbCS"
      }
    },
    {
      "cell_type": "code",
      "source": [
        "fruit_list = [\"apple\", \"banana\", \"orange\"]\n",
        "del fruit_list(\"banana\")\n",
        "print(fruit_list)"
      ],
      "metadata": {
        "colab": {
          "base_uri": "https://localhost:8080/",
          "height": 110
        },
        "id": "SFKIAjxHgZDa",
        "outputId": "bdf0bac7-abf1-46a9-d3a6-806dc0929a39"
      },
      "execution_count": null,
      "outputs": [
        {
          "output_type": "error",
          "ename": "SyntaxError",
          "evalue": "cannot delete function call (<ipython-input-88-fa72c8cc5c3e>, line 2)",
          "traceback": [
            "\u001b[0;36m  File \u001b[0;32m\"<ipython-input-88-fa72c8cc5c3e>\"\u001b[0;36m, line \u001b[0;32m2\u001b[0m\n\u001b[0;31m    del fruit_list(\"banana\")\u001b[0m\n\u001b[0m        ^\u001b[0m\n\u001b[0;31mSyntaxError\u001b[0m\u001b[0;31m:\u001b[0m cannot delete function call\n"
          ]
        }
      ]
    },
    {
      "cell_type": "code",
      "source": [],
      "metadata": {
        "id": "Rh90AL82glvY"
      },
      "execution_count": null,
      "outputs": []
    }
  ]
}